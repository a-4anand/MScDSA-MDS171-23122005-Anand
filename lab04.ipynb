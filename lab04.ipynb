{
 "cells": [
  {
   "cell_type": "markdown",
   "metadata": {},
   "source": [
    "Lab04\n"
   ]
  },
  {
   "cell_type": "code",
   "execution_count": 64,
   "metadata": {},
   "outputs": [
    {
     "name": "stdout",
     "output_type": "stream",
     "text": [
      "Thank you for your order😊, Your order has been placed😉\n",
      "******************************\n",
      "name\t:\tAnand\n",
      "\n",
      "Phone\t:\tDabeli\n",
      "\n",
      "email\t:\t67\n",
      "******************************\n"
     ]
    }
   ],
   "source": [
    "def writeMydetails(name,order,Phone):\n",
    "    fileMyDetails= open(name+'.text',\"w+\")  #anand.text\n",
    "    fileMyDetails.write(\"name\\t:\\t\"+name)\n",
    "    fileMyDetails.write(\"\\nPhone\\t:\\t\"+order)\n",
    "    fileMyDetails.write(\"\\nemail\\t:\\t\"+phone)\n",
    "    fileMyDetails.close()\n",
    "    return True\n",
    "\n",
    "name=input(\"Please Enter Your Name:  \")\n",
    "order=input(\"what would you like to order😉\")\n",
    "phone=input(\"Please Enter your Phone number:  \")\n",
    "ret=writeMydetails(name,order,phone)\n",
    "if ret:\n",
    "    print(\"Thank you for your order😊, Your order has been placed😉\")\n",
    "    print(\"*\"*30)\n",
    "    for line in open (name+\".text\",\"r+\").readlines():\n",
    "        print(line)\n",
    "    print(\"*\"*30)\n",
    "else:\n",
    "    print(\"Error occured\")"
   ]
  },
  {
   "cell_type": "code",
   "execution_count": null,
   "metadata": {},
   "outputs": [],
   "source": []
  }
 ],
 "metadata": {
  "kernelspec": {
   "display_name": "Python 3",
   "language": "python",
   "name": "python3"
  },
  "language_info": {
   "codemirror_mode": {
    "name": "ipython",
    "version": 3
   },
   "file_extension": ".py",
   "mimetype": "text/x-python",
   "name": "python",
   "nbconvert_exporter": "python",
   "pygments_lexer": "ipython3",
   "version": "3.11.4"
  },
  "orig_nbformat": 4
 },
 "nbformat": 4,
 "nbformat_minor": 2
}
