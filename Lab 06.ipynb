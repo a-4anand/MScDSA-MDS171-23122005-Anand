{
 "cells": [
  {
   "cell_type": "code",
   "execution_count": 57,
   "metadata": {},
   "outputs": [
    {
     "name": "stdout",
     "output_type": "stream",
     "text": [
      "\n",
      "Total count of vowels: 2\n",
      "\n",
      "Vowel Counts:\n",
      "E: 1\n",
      "O: 1\n",
      "\n",
      "Percentage of vowels in the given string: 40.00%\n"
     ]
    }
   ],
   "source": [
    "#function to define variables\n",
    "def count_vowels(string):\n",
    "    vowels = \"AEIOUaeiou\"\n",
    "    vowel_count = {}\n",
    "    total_count = 0\n",
    "\n",
    "    for char in string:\n",
    "        if char in vowels:\n",
    "            char = char.upper()\n",
    "            if char not in vowel_count:\n",
    "                vowel_count[char] = 1  # Initialize to 1 if not already in the dictionary\n",
    "            else:\n",
    "                vowel_count[char] += 1  # Increment count if already in the dictionary\n",
    "            total_count += 1\n",
    "\n",
    "    return vowel_count, total_count\n",
    "\n",
    "\n",
    "def calculate_percentage(total_count, string_length):    #calculating the percentage of the vowels\n",
    "    return(total_count/string_length)*100         #returning with percetnage value\n",
    "\n",
    "def main(): \n",
    "    user_input=input(\"Enter the string :   \")       #taking user input\n",
    "    vowel_count_dict, total_vowels = count_vowels(user_input)   \n",
    "    string_length = len(user_input)                  #getting length of user input\n",
    "\n",
    "    # Print the total count of vowels\n",
    "    print(\"\\nTotal count of vowels:\", total_vowels)       \n",
    "    print(\"\\nVowel Counts:\")                 \n",
    "    for vowel, count in vowel_count_dict.items():\n",
    "        print(f\"{vowel}: {count}\")\n",
    "\n",
    "    # Calculating the percentage of vowels and print it\n",
    "    percentage = calculate_percentage(total_vowels, string_length)  \n",
    "    print(\"\\nPercentage of vowels in the given string: {:.2f}%\".format(percentage))    \n",
    "if __name__ == \"__main__\":\n",
    "    main()\n"
   ]
  },
  {
   "cell_type": "markdown",
   "metadata": {},
   "source": [
    "Main program"
   ]
  }
 ],
 "metadata": {
  "kernelspec": {
   "display_name": "Python 3",
   "language": "python",
   "name": "python3"
  },
  "language_info": {
   "codemirror_mode": {
    "name": "ipython",
    "version": 3
   },
   "file_extension": ".py",
   "mimetype": "text/x-python",
   "name": "python",
   "nbconvert_exporter": "python",
   "pygments_lexer": "ipython3",
   "version": "3.11.4"
  },
  "orig_nbformat": 4
 },
 "nbformat": 4,
 "nbformat_minor": 2
}
