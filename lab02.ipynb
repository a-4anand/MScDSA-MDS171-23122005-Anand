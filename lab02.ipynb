{
 "cells": [
  {
   "cell_type": "code",
   "execution_count": 7,
   "metadata": {},
   "outputs": [],
   "source": [
    "# a=str(input(\"Enter the first name:  \"))\n",
    "# print(a)\n",
    "# b=str(input(\"Enter the second name:  \"))\n",
    "# if a==b:\n",
    "#     print(\"name exist\")\n",
    "# else:\n",
    "#     print(b)\n",
    "# c=str(input(\"Enter the third name:  \"))\n",
    "# if c==b or c==a:\n",
    "#     print(\"name exist\")\n",
    "# else:\n",
    "#     print(c)\n",
    "\n"
   ]
  },
  {
   "cell_type": "code",
   "execution_count": 8,
   "metadata": {},
   "outputs": [],
   "source": [
    "# In a quaint little village named Harmonyville, there lived a curious individual named Alex. Alex was known for his passion for collecting names. His dream was to create an extensive list of unique names that would reflect the diversity and camaraderie of the village. Alex used to sit in the village junction; as the villagers passed, Alex eagerly approached them and asked for their names. With each encounter, they diligently recorded the names in his notepad.\n",
    "\n",
    "# To keep things organized, You were one among the villagers and have decided to create a program to assist them in this endeavour. You asked Alex to begin by defining a list on his laptop instead of his notepad, and you started writing functions to add names.\n",
    "\n",
    "# The function that you have defined should do\n",
    "\n",
    "# Whenever a new name is encountered, record it.\n",
    "# If an existing name comes, the program says the name exists.\n",
    "# Alex makes a lot of mistakes; your program also has to do the necessary validations.\n",
    "# The function quits when q is entered as a name and prints all the names in the list, and then he has to call the function.\n",
    "# As a data analyst of the village, analyse the names in the list.\n",
    "# Days turned into weeks and weeks into months. Alex's name collection grew beyond their wildest dreams. The villagers admired their dedication and the beautifully organized list they had created. Alex's program became a legend in Harmonyville, passed down from generation to generation.\n",
    "\n",
    "# And so, in the heart of the village, Alex's legacy lived on - a story of names, community, and the power of coding to bring dreams to life.\n",
    "\n",
    "\n",
    "\n"
   ]
  },
  {
   "cell_type": "markdown",
   "metadata": {},
   "source": [
    "Variable"
   ]
  },
  {
   "cell_type": "code",
   "execution_count": 9,
   "metadata": {},
   "outputs": [],
   "source": [
    "nameList = []"
   ]
  },
  {
   "cell_type": "markdown",
   "metadata": {},
   "source": [
    "function"
   ]
  },
  {
   "cell_type": "code",
   "execution_count": 10,
   "metadata": {},
   "outputs": [],
   "source": [
    "def add_name():\n",
    "    name = input(\"\")\n",
    "    nameList.append(name)"
   ]
  },
  {
   "cell_type": "markdown",
   "metadata": {},
   "source": [
    "MAin Program"
   ]
  },
  {
   "cell_type": "code",
   "execution_count": 19,
   "metadata": {},
   "outputs": [],
   "source": [
    "name = []\n",
    "def namelist(n) :\n",
    "    if n == \"q\":\n",
    "        print(\"the end of process\")\n",
    "    elif n in name == name :\n",
    "        print(\"The name already exists\")\n",
    "    else :\n",
    "        name.append(n)\n",
    "        print(name)"
   ]
  },
  {
   "cell_type": "code",
   "execution_count": 16,
   "metadata": {},
   "outputs": [
    {
     "name": "stdout",
     "output_type": "stream",
     "text": [
      "['Anand']\n"
     ]
    }
   ],
   "source": [
    "namelist(\"Anand\")"
   ]
  },
  {
   "cell_type": "markdown",
   "metadata": {},
   "source": []
  },
  {
   "cell_type": "markdown",
   "metadata": {},
   "source": []
  },
  {
   "cell_type": "code",
   "execution_count": 17,
   "metadata": {},
   "outputs": [
    {
     "name": "stdout",
     "output_type": "stream",
     "text": [
      "The name already exists\n"
     ]
    }
   ],
   "source": [
    "namelist(\"Anand\")"
   ]
  },
  {
   "cell_type": "code",
   "execution_count": 20,
   "metadata": {},
   "outputs": [
    {
     "name": "stdout",
     "output_type": "stream",
     "text": [
      "the end of process\n"
     ]
    }
   ],
   "source": [
    "namelist(\"q\")"
   ]
  },
  {
   "cell_type": "code",
   "execution_count": 22,
   "metadata": {},
   "outputs": [
    {
     "name": "stdout",
     "output_type": "stream",
     "text": [
      "The name already exists\n"
     ]
    }
   ],
   "source": [
    "namelist(\"Dubey\")"
   ]
  },
  {
   "cell_type": "code",
   "execution_count": 23,
   "metadata": {},
   "outputs": [
    {
     "name": "stdout",
     "output_type": "stream",
     "text": [
      "['Dubey', 'CAT']\n"
     ]
    }
   ],
   "source": [
    "namelist(\"CAT\")"
   ]
  },
  {
   "cell_type": "code",
   "execution_count": 24,
   "metadata": {},
   "outputs": [
    {
     "name": "stdout",
     "output_type": "stream",
     "text": [
      "['Dubey', 'CAT', 'Anand']\n"
     ]
    }
   ],
   "source": [
    "namelist(\"Anand\")"
   ]
  },
  {
   "cell_type": "code",
   "execution_count": null,
   "metadata": {},
   "outputs": [],
   "source": []
  }
 ],
 "metadata": {
  "kernelspec": {
   "display_name": "Python 3",
   "language": "python",
   "name": "python3"
  },
  "language_info": {
   "codemirror_mode": {
    "name": "ipython",
    "version": 3
   },
   "file_extension": ".py",
   "mimetype": "text/x-python",
   "name": "python",
   "nbconvert_exporter": "python",
   "pygments_lexer": "ipython3",
   "version": "3.11.4"
  },
  "orig_nbformat": 4
 },
 "nbformat": 4,
 "nbformat_minor": 2
}
