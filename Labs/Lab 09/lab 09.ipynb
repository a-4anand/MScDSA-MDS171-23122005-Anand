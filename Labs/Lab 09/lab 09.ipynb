{
 "cells": [
  {
   "cell_type": "code",
   "execution_count": 69,
   "metadata": {},
   "outputs": [
    {
     "name": "stdout",
     "output_type": "stream",
     "text": [
      "{'\\ufeffType': 'Income', 'Category': 'salary', 'Cost': '5000', 'Desc': 'salary credited', 'Date': '26/11/23'}\n",
      "{'\\ufeffType': 'Expense', 'Category': 'travel', 'Cost': '4000', 'Desc': 'took a cab to pune', 'Date': '27/11/23'}\n",
      "{'\\ufeffType': 'Income', 'Category': 'salary', 'Cost': '4000', 'Desc': 'I am a daily wage labour so :.)', 'Date': '28/11/23'}\n",
      "{'\\ufeffType': 'Expense', 'Category': 'food', 'Cost': '500', 'Desc': 'food is costly ', 'Date': '29/11/23'}\n",
      "{'\\ufeffType': 'Income', 'Category': 'found on  road', 'Cost': '5000', 'Desc': 'found a wallet on road :)', 'Date': '30/11/23'}\n",
      "{'\\ufeffType': 'Expense', 'Category': 'shopping', 'Cost': '4000', 'Desc': 'went to buy something in market', 'Date': '01/12/23'}\n",
      "{'\\ufeffType': 'Income', 'Category': 'pocket money', 'Cost': '6000', 'Desc': 'got from parent', 'Date': '02/12/23'}\n",
      "{'\\ufeffType': 'Expense', 'Category': 'staionary', 'Cost': '400', 'Desc': 'bought some stationary', 'Date': '03/12/23'}\n",
      "{'\\ufeffType': 'Income', 'Category': 'old savings', 'Cost': '500', 'Desc': \"found in old jean's pocket\", 'Date': '04/12/23'}\n",
      "{'\\ufeffType': 'Expense', 'Category': 'date', 'Cost': '2000', 'Desc': 'took her to a beautiful date', 'Date': '05/12/23'}\n",
      "{'\\ufeffType': 'Income', 'Category': 'bonus', 'Cost': '5000', 'Desc': 'diwali bonus', 'Date': '06/12/23'}\n",
      "{'\\ufeffType': 'Expense', 'Category': 'lost', 'Cost': '500', 'Desc': 'someone snatched from my wallet', 'Date': '07/12/23'}\n",
      "{'\\ufeffType': 'Income', 'Category': 'labour money', 'Cost': '5000', 'Desc': 'I do to survive :)', 'Date': '08/12/23'}\n",
      "{'\\ufeffType': 'Expense', 'Category': 'college fee', 'Cost': '170000', 'Desc': 'yes it is that high', 'Date': '09/12/23'}\n",
      "{'\\ufeffType': 'Income', 'Category': 'parent money', 'Cost': '100000', 'Desc': 'yes they love me', 'Date': '10/12/23'}\n",
      "{'\\ufeffType': 'Expense', 'Category': 'college fine', 'Cost': '10000', 'Desc': 'for a small mistake I made :(', 'Date': '11/12/23'}\n",
      "{'\\ufeffType': 'Income', 'Category': 'night duty', 'Cost': '10000', 'Desc': 'had to to to survive ', 'Date': '12/12/23'}\n",
      "{'\\ufeffType': 'Expense', 'Category': 'night out', 'Cost': '2000', 'Desc': 'night outs are costly', 'Date': '13/12/23'}\n",
      "{'\\ufeffType': 'Income', 'Category': 'salary', 'Cost': '5000', 'Desc': 'got my weekly salary', 'Date': '14/12/23'}\n",
      "{'\\ufeffType': 'Expense', 'Category': 'gifts', 'Cost': '1500', 'Desc': 'gave her a gift', 'Date': '15/12/23'}\n",
      "{'\\ufeffType': 'Income', 'Category': 'borrowed ', 'Cost': '5000', 'Desc': 'borrowed from my friend that I will never retuen , hehe', 'Date': '16/12/23'}\n",
      "{'\\ufeffType': 'Expense', 'Category': 'party', 'Cost': '3000', 'Desc': 'hehe', 'Date': '17/12/23'}\n",
      "Total Expense: 197900.0\n",
      "Total Income: 150500.0\n"
     ]
    }
   ],
   "source": [
    "import csv\n",
    "\n",
    "file_path = '/Users/aanandkumar/Documents/Lab 09.csv'  \n",
    "with open(file_path, 'r') as csv_file:\n",
    "    csv_reader = csv.DictReader(csv_file)\n",
    "\n",
    "    total_expense = 0\n",
    "    total_income = 0\n",
    "\n",
    "    for row in csv_reader:\n",
    "        transaction_type = row.get('\\ufeffType', '')  \n",
    "        amount_str = row.get('Cost', '0')  \n",
    "        amount = float(amount_str) \n",
    "\n",
    "        if transaction_type == 'Expense':\n",
    "            total_expense += amount\n",
    "        elif transaction_type == 'Income':\n",
    "            total_income += amount\n",
    "\n",
    "        print(row)\n",
    "\n",
    "print(f\"Total Expense: {total_expense}\")\n",
    "print(f\"Total Income: {total_income}\")\n"
   ]
  }
 ],
 "metadata": {
  "kernelspec": {
   "display_name": "Python 3",
   "language": "python",
   "name": "python3"
  },
  "language_info": {
   "codemirror_mode": {
    "name": "ipython",
    "version": 3
   },
   "file_extension": ".py",
   "mimetype": "text/x-python",
   "name": "python",
   "nbconvert_exporter": "python",
   "pygments_lexer": "ipython3",
   "version": "3.11.5"
  },
  "orig_nbformat": 4
 },
 "nbformat": 4,
 "nbformat_minor": 2
}
