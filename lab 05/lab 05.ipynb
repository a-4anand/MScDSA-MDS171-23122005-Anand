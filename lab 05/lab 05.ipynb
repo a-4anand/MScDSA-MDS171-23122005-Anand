{
 "cells": [
  {
   "cell_type": "markdown",
   "metadata": {},
   "source": [
    "Lab 05,  Anand Kumar Dubey , Reg no : 23122005"
   ]
  },
  {
   "cell_type": "markdown",
   "metadata": {},
   "source": [
    "Variables"
   ]
  },
  {
   "cell_type": "code",
   "execution_count": 179,
   "metadata": {},
   "outputs": [],
   "source": [
    "import random\n",
    "items = [\"Apple\", \"Banana\", \"Carrot\", \"Chocolate\", \"Coffee\", \"Eggs\", \"Milk\", \"Potato\", \"Rice\", \"Tomato\"]\n",
    "quantities = [random.randint(1, 100) for _ in range(100)]\n",
    "quantities = [random.randint(1, 10) for _ in range(10)]\n",
    "prices = [random.randint(0, 1000) for _ in range(10)]"
   ]
  },
  {
   "cell_type": "code",
   "execution_count": 180,
   "metadata": {},
   "outputs": [
    {
     "name": "stdout",
     "output_type": "stream",
     "text": [
      "['Potato', 9, 0]\n",
      "['Milk', 1, 449]\n",
      "['Milk', 1, 449]\n",
      "['Apple', 6, 216]\n",
      "['Chocolate', 9, 106]\n",
      "['Tomato', 4, 418]\n",
      "['Chocolate', 9, 106]\n",
      "['Milk', 1, 449]\n",
      "['Carrot', 10, 642]\n",
      "['Banana', 8, 813]\n",
      "['Carrot', 10, 642]\n",
      "['Milk', 1, 449]\n",
      "['Eggs', 6, 595]\n",
      "['Carrot', 10, 642]\n",
      "['Coffee', 5, 582]\n",
      "['Carrot', 10, 642]\n",
      "['Tomato', 4, 418]\n",
      "['Milk', 1, 449]\n",
      "['Milk', 1, 449]\n",
      "['Chocolate', 9, 106]\n",
      "['Eggs', 6, 595]\n",
      "['Carrot', 10, 642]\n",
      "['Milk', 1, 449]\n",
      "['Banana', 8, 813]\n",
      "['Carrot', 10, 642]\n",
      "['Milk', 1, 449]\n",
      "['Potato', 9, 0]\n",
      "['Eggs', 6, 595]\n",
      "['Milk', 1, 449]\n",
      "['Chocolate', 9, 106]\n",
      "['Eggs', 6, 595]\n",
      "['Tomato', 4, 418]\n",
      "['Coffee', 5, 582]\n",
      "['Tomato', 4, 418]\n",
      "['Milk', 1, 449]\n",
      "['Apple', 6, 216]\n",
      "['Apple', 6, 216]\n",
      "['Coffee', 5, 582]\n",
      "['Chocolate', 9, 106]\n",
      "['Banana', 8, 813]\n",
      "['Banana', 8, 813]\n",
      "['Potato', 9, 0]\n",
      "['Eggs', 6, 595]\n",
      "['Apple', 6, 216]\n",
      "['Milk', 1, 449]\n",
      "['Milk', 1, 449]\n",
      "['Chocolate', 9, 106]\n",
      "['Chocolate', 9, 106]\n",
      "['Tomato', 4, 418]\n",
      "['Rice', 6, 116]\n",
      "['Eggs', 6, 595]\n",
      "['Milk', 1, 449]\n",
      "['Coffee', 5, 582]\n",
      "['Potato', 9, 0]\n",
      "['Potato', 9, 0]\n",
      "['Eggs', 6, 595]\n",
      "['Apple', 6, 216]\n",
      "['Tomato', 4, 418]\n",
      "['Carrot', 10, 642]\n",
      "['Carrot', 10, 642]\n",
      "['Coffee', 5, 582]\n",
      "['Potato', 9, 0]\n",
      "['Potato', 9, 0]\n",
      "['Milk', 1, 449]\n",
      "['Tomato', 4, 418]\n",
      "['Potato', 9, 0]\n",
      "['Carrot', 10, 642]\n",
      "['Chocolate', 9, 106]\n",
      "['Chocolate', 9, 106]\n",
      "['Eggs', 6, 595]\n",
      "['Potato', 9, 0]\n",
      "['Banana', 8, 813]\n",
      "['Coffee', 5, 582]\n",
      "['Tomato', 4, 418]\n",
      "['Tomato', 4, 418]\n",
      "['Apple', 6, 216]\n",
      "['Potato', 9, 0]\n",
      "['Potato', 9, 0]\n",
      "['Tomato', 4, 418]\n",
      "['Carrot', 10, 642]\n",
      "['Potato', 9, 0]\n",
      "['Rice', 6, 116]\n",
      "['Coffee', 5, 582]\n",
      "['Banana', 8, 813]\n",
      "['Tomato', 4, 418]\n",
      "['Eggs', 6, 595]\n",
      "['Coffee', 5, 582]\n",
      "['Apple', 6, 216]\n",
      "['Apple', 6, 216]\n",
      "['Tomato', 4, 418]\n",
      "['Carrot', 10, 642]\n",
      "['Apple', 6, 216]\n",
      "['Tomato', 4, 418]\n",
      "['Banana', 8, 813]\n",
      "['Banana', 8, 813]\n",
      "['Potato', 9, 0]\n",
      "['Rice', 6, 116]\n",
      "['Banana', 8, 813]\n",
      "['Apple', 6, 216]\n",
      "['Banana', 8, 813]\n"
     ]
    }
   ],
   "source": [
    "for _ in range(100):\n",
    "    index = random.randint(0, 9)\n",
    "    item = items[index]\n",
    "    quantity = quantities[index]\n",
    "    price = prices[index]\n",
    "    row = [item,quantity,price]\n",
    "    print(row)"
   ]
  },
  {
   "cell_type": "code",
   "execution_count": null,
   "metadata": {},
   "outputs": [],
   "source": []
  }
 ],
 "metadata": {
  "kernelspec": {
   "display_name": "Python 3",
   "language": "python",
   "name": "python3"
  },
  "language_info": {
   "codemirror_mode": {
    "name": "ipython",
    "version": 3
   },
   "file_extension": ".py",
   "mimetype": "text/x-python",
   "name": "python",
   "nbconvert_exporter": "python",
   "pygments_lexer": "ipython3",
   "version": "3.11.4"
  },
  "orig_nbformat": 4
 },
 "nbformat": 4,
 "nbformat_minor": 2
}
