{
 "cells": [
  {
   "cell_type": "markdown",
   "metadata": {},
   "source": [
    "Lab 05,  Anand Kumar Dubey , Reg no : 23122005"
   ]
  },
  {
   "cell_type": "markdown",
   "metadata": {},
   "source": [
    "Variables"
   ]
  },
  {
   "cell_type": "code",
   "execution_count": 5,
   "metadata": {},
   "outputs": [],
   "source": [
    "import random\n",
    "items = [\"Apple\", \"Banana\", \"Carrot\", \"Chocolate\", \"Coffee\", \"Eggs\", \"Milk\", \"Potato\", \"Rice\", \"Tomato\"]\n",
    "quantities = [random.randint(1, 100) for _ in range(100)]\n",
    "quantities = [random.randint(1, 10) for _ in range(10)]\n",
    "prices = [random.randint(0, 1000) for _ in range(10)]"
   ]
  },
  {
   "cell_type": "code",
   "execution_count": 6,
   "metadata": {},
   "outputs": [
    {
     "name": "stdout",
     "output_type": "stream",
     "text": [
      "['Banana', 5, 363]\n",
      "['Banana', 5, 363]\n",
      "['Potato', 9, 387]\n",
      "['Apple', 5, 611]\n",
      "['Coffee', 4, 53]\n",
      "['Carrot', 7, 399]\n",
      "['Potato', 9, 387]\n",
      "['Eggs', 5, 648]\n",
      "['Tomato', 1, 117]\n",
      "['Banana', 5, 363]\n",
      "['Apple', 5, 611]\n",
      "['Apple', 5, 611]\n",
      "['Rice', 3, 967]\n",
      "['Chocolate', 4, 156]\n",
      "['Rice', 3, 967]\n",
      "['Carrot', 7, 399]\n",
      "['Banana', 5, 363]\n",
      "['Tomato', 1, 117]\n",
      "['Carrot', 7, 399]\n",
      "['Apple', 5, 611]\n",
      "['Banana', 5, 363]\n",
      "['Potato', 9, 387]\n",
      "['Rice', 3, 967]\n",
      "['Coffee', 4, 53]\n",
      "['Carrot', 7, 399]\n",
      "['Eggs', 5, 648]\n",
      "['Eggs', 5, 648]\n",
      "['Milk', 9, 411]\n",
      "['Milk', 9, 411]\n",
      "['Milk', 9, 411]\n",
      "['Coffee', 4, 53]\n",
      "['Tomato', 1, 117]\n",
      "['Tomato', 1, 117]\n",
      "['Tomato', 1, 117]\n",
      "['Chocolate', 4, 156]\n",
      "['Tomato', 1, 117]\n",
      "['Banana', 5, 363]\n",
      "['Eggs', 5, 648]\n",
      "['Carrot', 7, 399]\n",
      "['Milk', 9, 411]\n",
      "['Carrot', 7, 399]\n",
      "['Rice', 3, 967]\n",
      "['Chocolate', 4, 156]\n",
      "['Tomato', 1, 117]\n",
      "['Tomato', 1, 117]\n",
      "['Tomato', 1, 117]\n",
      "['Apple', 5, 611]\n",
      "['Tomato', 1, 117]\n",
      "['Carrot', 7, 399]\n",
      "['Coffee', 4, 53]\n",
      "['Coffee', 4, 53]\n",
      "['Milk', 9, 411]\n",
      "['Banana', 5, 363]\n",
      "['Coffee', 4, 53]\n",
      "['Milk', 9, 411]\n",
      "['Tomato', 1, 117]\n",
      "['Carrot', 7, 399]\n",
      "['Chocolate', 4, 156]\n",
      "['Eggs', 5, 648]\n",
      "['Rice', 3, 967]\n",
      "['Apple', 5, 611]\n",
      "['Carrot', 7, 399]\n",
      "['Coffee', 4, 53]\n",
      "['Eggs', 5, 648]\n",
      "['Eggs', 5, 648]\n",
      "['Rice', 3, 967]\n",
      "['Apple', 5, 611]\n",
      "['Tomato', 1, 117]\n",
      "['Rice', 3, 967]\n",
      "['Chocolate', 4, 156]\n",
      "['Tomato', 1, 117]\n",
      "['Chocolate', 4, 156]\n",
      "['Coffee', 4, 53]\n",
      "['Eggs', 5, 648]\n",
      "['Rice', 3, 967]\n",
      "['Apple', 5, 611]\n",
      "['Apple', 5, 611]\n",
      "['Banana', 5, 363]\n",
      "['Coffee', 4, 53]\n",
      "['Potato', 9, 387]\n",
      "['Coffee', 4, 53]\n",
      "['Banana', 5, 363]\n",
      "['Tomato', 1, 117]\n",
      "['Banana', 5, 363]\n",
      "['Potato', 9, 387]\n",
      "['Chocolate', 4, 156]\n",
      "['Tomato', 1, 117]\n",
      "['Tomato', 1, 117]\n",
      "['Coffee', 4, 53]\n",
      "['Coffee', 4, 53]\n",
      "['Apple', 5, 611]\n",
      "['Carrot', 7, 399]\n",
      "['Eggs', 5, 648]\n",
      "['Coffee', 4, 53]\n",
      "['Eggs', 5, 648]\n",
      "['Apple', 5, 611]\n",
      "['Apple', 5, 611]\n",
      "['Eggs', 5, 648]\n",
      "['Eggs', 5, 648]\n",
      "['Tomato', 1, 117]\n"
     ]
    }
   ],
   "source": [
    "for _ in range(100):\n",
    "    index = random.randint(0, 9)\n",
    "    item = items[index]\n",
    "    quantity = quantities[index]\n",
    "    price = prices[index]\n",
    "    row = [item,quantity,price]\n",
    "    print(row)"
   ]
  },
  {
   "cell_type": "code",
   "execution_count": null,
   "metadata": {},
   "outputs": [],
   "source": []
  }
 ],
 "metadata": {
  "kernelspec": {
   "display_name": "Python 3",
   "language": "python",
   "name": "python3"
  },
  "language_info": {
   "codemirror_mode": {
    "name": "ipython",
    "version": 3
   },
   "file_extension": ".py",
   "mimetype": "text/x-python",
   "name": "python",
   "nbconvert_exporter": "python",
   "pygments_lexer": "ipython3",
   "version": "3.11.4"
  },
  "orig_nbformat": 4
 },
 "nbformat": 4,
 "nbformat_minor": 2
}
